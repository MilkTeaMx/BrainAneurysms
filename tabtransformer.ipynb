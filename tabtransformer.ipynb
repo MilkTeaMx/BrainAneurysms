{
 "cells": [
  {
   "cell_type": "code",
   "execution_count": 8,
   "metadata": {},
   "outputs": [],
   "source": [
    "import math\n",
    "import numpy as np\n",
    "import pandas as pd\n",
    "import tensorflow as tf\n",
    "from tensorflow import keras\n",
    "from tensorflow.keras import layers\n",
    "import tensorflow_addons as tfa\n",
    "import matplotlib.pyplot as plt\n",
    "from sklearn.model_selection import train_test_split\n",
    "\n",
    "from imblearn.under_sampling import RandomUnderSampler\n",
    "from imblearn.over_sampling import RandomOverSampler"
   ]
  },
  {
   "cell_type": "code",
   "execution_count": 9,
   "metadata": {},
   "outputs": [
    {
     "name": "stdout",
     "output_type": "stream",
     "text": [
      "Len CSV_HEADER: 53\n"
     ]
    }
   ],
   "source": [
    "CSV_HEADER = [\n",
    " 'Status of aneurysm_Ruptured',\n",
    " 'Diabetes',\n",
    " 'Hypertension',\n",
    " 'Heart Disease',\n",
    " 'COPD',\n",
    " 'Polycystic Kidney Disese',\n",
    " 'Family_history',\n",
    " 'Gender_Female',\n",
    " 'Gender_Male',\n",
    " 'Gender_Transgender Female / Male-to-Female',\n",
    " 'Side_Bilateral',\n",
    " 'Side_Left',\n",
    " 'Side_Right',\n",
    " 'Side_Unknown',\n",
    " 'Side_at Bifurcation',\n",
    " 'Smoking History_Current Smoker',\n",
    " 'Smoking History_Former Smoker',\n",
    " 'Smoking History_Never Smoked',\n",
    " 'diplopia_No',\n",
    " 'diplopia_Unknown',\n",
    " 'diplopia_Yes',\n",
    " 'blurred vision_No',\n",
    " 'blurred vision_Unknown',\n",
    " 'blurred vision_Yes',\n",
    " 'New_Loc_Anterior Communicating Artery',\n",
    " 'New_Loc_BA SCA',\n",
    " 'New_Loc_Basilar Tip',\n",
    " 'New_Loc_Basilar Trunk',\n",
    " 'New_Loc_Carotid Terminus',\n",
    " 'New_Loc_Cavernous Carotid',\n",
    " 'New_Loc_Distal Branch',\n",
    " 'New_Loc_Extra-Cranial: Internal Carotid',\n",
    " 'New_Loc_ICA',\n",
    " 'New_Loc_MCA',\n",
    " 'New_Loc_PCA',\n",
    " 'New_Loc_PICA',\n",
    " 'New_Loc_Paraclinoid',\n",
    " 'New_Loc_Pericallosal',\n",
    " 'New_Loc_SICA',\n",
    " 'New_Loc_Vertebral Artery',\n",
    " 'age_category_Baby Boomers',\n",
    " 'age_category_Gen - X',\n",
    " 'age_category_Gen - Y',\n",
    " 'age_category_Silent Generation',\n",
    " 'size_category_giant',\n",
    " 'size_category_large',\n",
    " 'size_category_medium',\n",
    " 'size_category_small',\n",
    " 'size_category_tiny',\n",
    " 'Ethnicity_Asian/Oriental',\n",
    " 'Ethnicity_Black/African American',\n",
    " 'Ethnicity_Native American/American Indian',\n",
    " 'Ethnicity_White/Caucasian'\n",
    "]\n",
    "\n",
    "print(\"Len CSV_HEADER: \" + str(len(CSV_HEADER)))"
   ]
  },
  {
   "cell_type": "code",
   "execution_count": 10,
   "metadata": {},
   "outputs": [
    {
     "data": {
      "text/plain": [
       "'\\ndata = pd.read_csv(f\"./data/tab_aneurysm_data.csv\")\\ndata = data.drop([\\'Record ID\\', \\'Status of aneurysm_Un-Ruptured\\', \\'Status of aneurysm_Unknown\\'], axis=1)\\nstatus_col = data.pop(\\'Status of aneurysm_Ruptured\\')\\ndata.insert(0, \\'Status of aneurysm_Ruptured\\', status_col)\\n\\ncategory_mapping = {1: \\'ruptured\\', 0: \\'unruptured\\'}\\ndata[\\'Status of aneurysm_Ruptured\\'] = data[\\'Status of aneurysm_Ruptured\\'].map(category_mapping)\\n\\n\\ndata.to_csv(\"./data/tab_aneurysm_data.csv\", index=False)\\n'"
      ]
     },
     "execution_count": 10,
     "metadata": {},
     "output_type": "execute_result"
    }
   ],
   "source": [
    "\"\"\"\n",
    "data = pd.read_csv(f\"./data/tab_aneurysm_data.csv\")\n",
    "data = data.drop(['Record ID', 'Status of aneurysm_Un-Ruptured', 'Status of aneurysm_Unknown'], axis=1)\n",
    "status_col = data.pop('Status of aneurysm_Ruptured')\n",
    "data.insert(0, 'Status of aneurysm_Ruptured', status_col)\n",
    "\n",
    "category_mapping = {1: 'ruptured', 0: 'unruptured'}\n",
    "data['Status of aneurysm_Ruptured'] = data['Status of aneurysm_Ruptured'].map(category_mapping)\n",
    "\n",
    "\n",
    "data.to_csv(\"./data/tab_aneurysm_data.csv\", index=False)\n",
    "\"\"\""
   ]
  },
  {
   "cell_type": "code",
   "execution_count": 11,
   "metadata": {},
   "outputs": [
    {
     "name": "stdout",
     "output_type": "stream",
     "text": [
      "Train dataset shape: (524, 53)\n",
      "Test dataset shape: (291, 53)\n",
      "Val dataset shape: (290, 53)\n"
     ]
    },
    {
     "data": {
      "text/plain": [
       "Status of aneurysm_Ruptured\n",
       "ruptured      262\n",
       "unruptured    262\n",
       "Name: count, dtype: int64"
      ]
     },
     "execution_count": 11,
     "metadata": {},
     "output_type": "execute_result"
    }
   ],
   "source": [
    "data = pd.read_csv(f\"./data/tab_aneurysm_data.csv\", header=None, names=CSV_HEADER)\n",
    "\n",
    "data = data[1:]\n",
    "\n",
    "X = data.drop(['Status of aneurysm_Ruptured'], axis=1)\n",
    "y = data['Status of aneurysm_Ruptured']\n",
    "\n",
    "# Perform the train-test split (70% train, 30% combined validation and test)\n",
    "X_train, X_temp, y_train, y_temp = train_test_split(X, y, test_size=0.3, random_state=4)\n",
    "\n",
    "# Further split the temporary set into validation and test sets (50% validation, 50% test)\n",
    "X_val, X_test, y_val, y_test = train_test_split(X_temp, y_temp, test_size=0.5, random_state=42)\n",
    "\n",
    "#Save the training and testing data to CSV files\n",
    "oversample = RandomUnderSampler(sampling_strategy='majority')\n",
    "X_train, y_train = oversample.fit_resample(X_train, y_train)\n",
    "\n",
    "# Save the training and testing data to CSV files\n",
    "train_data = pd.concat([y_train, X_train], axis=1)\n",
    "test_data = pd.concat([y_test, X_test], axis=1)\n",
    "val_data = pd.concat([y_val, X_val], axis=1)\n",
    "\n",
    "print(f\"Train dataset shape: {train_data.shape}\")\n",
    "print(f\"Test dataset shape: {test_data.shape}\")\n",
    "print(f\"Val dataset shape: {val_data.shape}\")\n",
    "\n",
    "y_train.value_counts()"
   ]
  },
  {
   "cell_type": "code",
   "execution_count": 12,
   "metadata": {},
   "outputs": [
    {
     "data": {
      "text/plain": [
       "Status of aneurysm_Ruptured\n",
       "unruptured    230\n",
       "ruptured       61\n",
       "Name: count, dtype: int64"
      ]
     },
     "execution_count": 12,
     "metadata": {},
     "output_type": "execute_result"
    }
   ],
   "source": [
    "y_test.value_counts()"
   ]
  },
  {
   "cell_type": "code",
   "execution_count": 13,
   "metadata": {},
   "outputs": [
    {
     "data": {
      "text/plain": [
       "Status of aneurysm_Ruptured\n",
       "unruptured    220\n",
       "ruptured       70\n",
       "Name: count, dtype: int64"
      ]
     },
     "execution_count": 13,
     "metadata": {},
     "output_type": "execute_result"
    }
   ],
   "source": [
    "y_val.value_counts()"
   ]
  },
  {
   "cell_type": "code",
   "execution_count": 14,
   "metadata": {},
   "outputs": [
    {
     "data": {
      "text/plain": [
       "'\\n# Assuming \\'y\\' contains the class labels (0s and 1s) for the binary classification problem\\nclass_weights = calculate_class_weights(y)\\nclass_weights = {0: class_weights[\\'ruptured\\'], 1: class_weights[\\'unruptured\\']}\\nprint(\"Class weights:\", class_weights)\\n'"
      ]
     },
     "execution_count": 14,
     "metadata": {},
     "output_type": "execute_result"
    }
   ],
   "source": [
    "import numpy as np\n",
    "\n",
    "def calculate_class_weights(y):\n",
    "    unique_classes, class_counts = np.unique(y, return_counts=True)\n",
    "    total_samples = len(y)\n",
    "    class_weights = {}\n",
    "\n",
    "    for class_label, class_count in zip(unique_classes, class_counts):\n",
    "        class_weight = total_samples / (2.0 * class_count)\n",
    "        class_weights[class_label] = class_weight\n",
    "\n",
    "    return class_weights\n",
    "\n",
    "'''\n",
    "# Assuming 'y' contains the class labels (0s and 1s) for the binary classification problem\n",
    "class_weights = calculate_class_weights(y)\n",
    "class_weights = {0: class_weights['ruptured'], 1: class_weights['unruptured']}\n",
    "print(\"Class weights:\", class_weights)\n",
    "'''"
   ]
  },
  {
   "cell_type": "code",
   "execution_count": 15,
   "metadata": {},
   "outputs": [],
   "source": [
    "train_data_file = \"train_data_An.csv\"\n",
    "test_data_file = \"test_data_An.csv\"\n",
    "val_data_file = \"val_data_An.csv\"\n",
    "\n",
    "train_data.to_csv(train_data_file, index=False, header=False)\n",
    "test_data.to_csv(test_data_file, index=False, header=False)\n",
    "val_data.to_csv(val_data_file, index=False, header=False)"
   ]
  },
  {
   "cell_type": "code",
   "execution_count": 16,
   "metadata": {},
   "outputs": [],
   "source": [
    "NUMERIC_FEATURE_NAMES = [\n",
    "]\n",
    "\n",
    "CATEGORICAL_FEATURES_WITH_VOCABULARY={}\n",
    "for feature in CSV_HEADER[1:]: #Not including Rupture Status\n",
    "    CATEGORICAL_FEATURES_WITH_VOCABULARY[feature]=sorted(list(data[feature].unique()))\n",
    "\n",
    "# Name of the column to be used as instances weight.\n",
    "WEIGHT_COLUMN_NAME = \"fnlwgt\"\n",
    "# A list of the categorical feature names.\n",
    "CATEGORICAL_FEATURE_NAMES = list(CATEGORICAL_FEATURES_WITH_VOCABULARY.keys())\n",
    "# A list of all the input features.\n",
    "FEATURE_NAMES = NUMERIC_FEATURE_NAMES + CATEGORICAL_FEATURE_NAMES\n",
    "# A list of column default values for each feature.\n",
    "COLUMN_DEFAULTS = [\n",
    "    [\"NA\"] for feature_name in CSV_HEADER\n",
    "]\n",
    "# The name of the target feature.\n",
    "TARGET_FEATURE_NAME = \"Status of aneurysm_Ruptured\"\n",
    "# A list of the labels of the target features.\n",
    "TARGET_LABELS = [\"ruptured\", \"unruptured\"]"
   ]
  },
  {
   "cell_type": "code",
   "execution_count": 17,
   "metadata": {},
   "outputs": [
    {
     "data": {
      "text/plain": [
       "{'Diabetes': ['0', '1'],\n",
       " 'Hypertension': ['0', '1'],\n",
       " 'Heart Disease': ['0', '1'],\n",
       " 'COPD': ['0', '1'],\n",
       " 'Polycystic Kidney Disese': ['0', '1'],\n",
       " 'Family_history': ['0', '1'],\n",
       " 'Gender_Female': ['0', '1'],\n",
       " 'Gender_Male': ['0', '1'],\n",
       " 'Gender_Transgender Female / Male-to-Female': ['0', '1'],\n",
       " 'Side_Bilateral': ['0', '1'],\n",
       " 'Side_Left': ['0', '1'],\n",
       " 'Side_Right': ['0', '1'],\n",
       " 'Side_Unknown': ['0', '1'],\n",
       " 'Side_at Bifurcation': ['0', '1'],\n",
       " 'Smoking History_Current Smoker': ['0', '1'],\n",
       " 'Smoking History_Former Smoker': ['0', '1'],\n",
       " 'Smoking History_Never Smoked': ['0', '1'],\n",
       " 'diplopia_No': ['0', '1'],\n",
       " 'diplopia_Unknown': ['0', '1'],\n",
       " 'diplopia_Yes': ['0', '1'],\n",
       " 'blurred vision_No': ['0', '1'],\n",
       " 'blurred vision_Unknown': ['0', '1'],\n",
       " 'blurred vision_Yes': ['0', '1'],\n",
       " 'New_Loc_Anterior Communicating Artery': ['0', '1'],\n",
       " 'New_Loc_BA SCA': ['0', '1'],\n",
       " 'New_Loc_Basilar Tip': ['0', '1'],\n",
       " 'New_Loc_Basilar Trunk': ['0', '1'],\n",
       " 'New_Loc_Carotid Terminus': ['0', '1'],\n",
       " 'New_Loc_Cavernous Carotid': ['0', '1'],\n",
       " 'New_Loc_Distal Branch': ['0', '1'],\n",
       " 'New_Loc_Extra-Cranial: Internal Carotid': ['0', '1'],\n",
       " 'New_Loc_ICA': ['0', '1'],\n",
       " 'New_Loc_MCA': ['0', '1'],\n",
       " 'New_Loc_PCA': ['0', '1'],\n",
       " 'New_Loc_PICA': ['0', '1'],\n",
       " 'New_Loc_Paraclinoid': ['0', '1'],\n",
       " 'New_Loc_Pericallosal': ['0', '1'],\n",
       " 'New_Loc_SICA': ['0', '1'],\n",
       " 'New_Loc_Vertebral Artery': ['0', '1'],\n",
       " 'age_category_Baby Boomers': ['0', '1'],\n",
       " 'age_category_Gen - X': ['0', '1'],\n",
       " 'age_category_Gen - Y': ['0', '1'],\n",
       " 'age_category_Silent Generation': ['0', '1'],\n",
       " 'size_category_giant': ['0', '1'],\n",
       " 'size_category_large': ['0', '1'],\n",
       " 'size_category_medium': ['0', '1'],\n",
       " 'size_category_small': ['0', '1'],\n",
       " 'size_category_tiny': ['0', '1'],\n",
       " 'Ethnicity_Asian/Oriental': ['0', '1'],\n",
       " 'Ethnicity_Black/African American': ['0', '1'],\n",
       " 'Ethnicity_Native American/American Indian': ['0', '1'],\n",
       " 'Ethnicity_White/Caucasian': ['0', '1']}"
      ]
     },
     "execution_count": 17,
     "metadata": {},
     "output_type": "execute_result"
    }
   ],
   "source": [
    "CATEGORICAL_FEATURES_WITH_VOCABULARY"
   ]
  },
  {
   "cell_type": "code",
   "execution_count": 18,
   "metadata": {},
   "outputs": [],
   "source": [
    "LEARNING_RATE = 0.001\n",
    "WEIGHT_DECAY = 0.0001\n",
    "DROPOUT_RATE = 0.2\n",
    "BATCH_SIZE = 32\n",
    "NUM_EPOCHS = 30\n",
    "\n",
    "NUM_TRANSFORMER_BLOCKS = 5  # Number of transformer blocks.\n",
    "NUM_HEADS = 4  # Number of attention heads.\n",
    "EMBEDDING_DIMS = 16  # Embedding dimensions of the categorical features.\n",
    "MLP_HIDDEN_UNITS_FACTORS = [\n",
    "    2,\n",
    "    1,\n",
    "]  # MLP hidden layer units, as factors of the number of inputs.\n",
    "NUM_MLP_BLOCKS = 2  # Number of MLP blocks in the baseline model."
   ]
  },
  {
   "cell_type": "code",
   "execution_count": 19,
   "metadata": {},
   "outputs": [],
   "source": [
    "target_label_lookup = layers.StringLookup(\n",
    "    vocabulary=TARGET_LABELS, mask_token=None, num_oov_indices=0\n",
    ")\n",
    "\n",
    "def prepare_example(features, target):\n",
    "    # print(target)\n",
    "    target_index = target_label_lookup(target)\n",
    "    return features, target_index\n",
    "\n",
    "\n",
    "def get_dataset_from_csv(csv_file_path, batch_size=128, shuffle=False):\n",
    "    dataset = tf.data.experimental.make_csv_dataset(\n",
    "        csv_file_path,\n",
    "        batch_size=batch_size,\n",
    "        column_names=CSV_HEADER,\n",
    "        column_defaults=COLUMN_DEFAULTS,\n",
    "        label_name=TARGET_FEATURE_NAME,\n",
    "        num_epochs=1,\n",
    "        header=False,\n",
    "        na_value=\"?\",\n",
    "        shuffle=False,\n",
    "    ).map(prepare_example, num_parallel_calls=tf.data.AUTOTUNE, deterministic=False)\n",
    "    return dataset.cache()"
   ]
  },
  {
   "cell_type": "code",
   "execution_count": 20,
   "metadata": {},
   "outputs": [],
   "source": [
    "np.random.seed(0)\n",
    "tf.random.set_seed(0)\n",
    "keras.utils.set_random_seed(1)"
   ]
  },
  {
   "cell_type": "code",
   "execution_count": 21,
   "metadata": {},
   "outputs": [],
   "source": [
    "from keras import backend as K\n",
    "def get_f1(y_true, y_pred): #taken from old keras source code\n",
    "    true_positives = K.sum(K.round(K.clip(y_true * y_pred, 0, 1)))\n",
    "    possible_positives = K.sum(K.round(K.clip(y_true, 0, 1)))\n",
    "    predicted_positives = K.sum(K.round(K.clip(y_pred, 0, 1)))\n",
    "    precision = true_positives / (predicted_positives + K.epsilon())\n",
    "    recall = true_positives / (possible_positives + K.epsilon())\n",
    "    f1_val = 2*(precision*recall)/(precision+recall+K.epsilon())\n",
    "    return f1_val\n",
    "def recall(y_true, y_pred):\n",
    "    true_positives = K.sum(K.round(K.clip(y_true * y_pred, 0, 1)))\n",
    "    possible_positives = K.sum(K.round(K.clip(y_true, 0, 1)))\n",
    "    recall_keras = true_positives / (possible_positives + K.epsilon())\n",
    "    return recall_keras\n",
    "def precision(y_true, y_pred):\n",
    "    true_positives = K.sum(K.round(K.clip(y_true * y_pred, 0, 1)))\n",
    "    predicted_positives = K.sum(K.round(K.clip(y_pred, 0, 1)))\n",
    "    precision_keras = true_positives / (predicted_positives + K.epsilon())\n",
    "    return precision_keras\n",
    "def negative_predictive_value(y_true, y_pred):\n",
    "    tn = K.sum(K.round(K.clip((1 - y_true) * (1 - y_pred), 0, 1)))\n",
    "    fn = K.sum(K.round(K.clip(y_true * (1 - y_pred), 0, 1)))\n",
    "    return tn / (tn + fn + K.epsilon())\n",
    "\n",
    "from sklearn.metrics import roc_auc_score\n",
    "def get_auroc(y_true, y_pred):\n",
    "    return tf.numpy_function(roc_auc_score, (y_true, y_pred), tf.double)"
   ]
  },
  {
   "cell_type": "code",
   "execution_count": 22,
   "metadata": {},
   "outputs": [],
   "source": [
    "def run_experiment(\n",
    "    model,\n",
    "    train_data_file,\n",
    "    test_data_file,\n",
    "    val_data_file,\n",
    "    num_epochs,\n",
    "    learning_rate,\n",
    "    weight_decay,\n",
    "    batch_size,\n",
    "):\n",
    "\n",
    "    optimizer = tfa.optimizers.AdamW(\n",
    "        learning_rate=learning_rate, weight_decay=weight_decay\n",
    "    )\n",
    "\n",
    "    model.compile(\n",
    "        optimizer=optimizer,\n",
    "        loss=keras.losses.BinaryCrossentropy(),\n",
    "        metrics=[keras.metrics.BinaryAccuracy(name=\"accuracy\"), get_f1,precision,recall],\n",
    "    )\n",
    "\n",
    "    train_dataset = get_dataset_from_csv(train_data_file, batch_size, shuffle=False)\n",
    "    test_dataset = get_dataset_from_csv(test_data_file, batch_size)\n",
    "    validation_dataset = get_dataset_from_csv(val_data_file, batch_size)\n",
    "\n",
    "    print(\"Start training the model...\")\n",
    "    history = model.fit(\n",
    "        train_dataset, epochs=num_epochs, validation_data=validation_dataset#, class_weight=class_weights\n",
    "    )\n",
    "    print(\"Model training finished\")\n",
    "\n",
    "    _, accuracy, f1,prec,rec = model.evaluate(test_dataset, verbose=0)\n",
    "    \n",
    "\n",
    "    print(f\"Test accuracy: {round(accuracy * 100, 2)}%\")\n",
    "    print(f\"Test f1: {round(f1,6)}\")\n",
    "    print(f\"Test accuracy: {round(accuracy,6)}\")\n",
    "    print(f\"Test Precision: {round(prec,6 )}\")\n",
    "    print(f\"Test Recall: {round(rec,6)}\")\n",
    "\n",
    "    return history"
   ]
  },
  {
   "cell_type": "code",
   "execution_count": 23,
   "metadata": {},
   "outputs": [],
   "source": [
    "def create_model_inputs():\n",
    "    inputs = {}\n",
    "    for feature_name in FEATURE_NAMES:\n",
    "        if feature_name in NUMERIC_FEATURE_NAMES:\n",
    "            inputs[feature_name] = layers.Input(\n",
    "                name=feature_name, shape=(), dtype=tf.float32\n",
    "            )\n",
    "        else:\n",
    "            inputs[feature_name] = layers.Input(\n",
    "                name=feature_name, shape=(), dtype=tf.string\n",
    "            )\n",
    "    return inputs"
   ]
  },
  {
   "cell_type": "code",
   "execution_count": 24,
   "metadata": {},
   "outputs": [],
   "source": [
    "def encode_inputs(inputs, embedding_dims):\n",
    "\n",
    "    encoded_categorical_feature_list = []\n",
    "    numerical_feature_list = []\n",
    "\n",
    "    for feature_name in inputs:\n",
    "        if feature_name in CATEGORICAL_FEATURE_NAMES:\n",
    "\n",
    "            # Get the vocabulary of the categorical feature.\n",
    "            vocabulary = CATEGORICAL_FEATURES_WITH_VOCABULARY[feature_name]\n",
    "\n",
    "            # Create a lookup to convert string values to an integer indices.\n",
    "            # Since we are not using a mask token nor expecting any out of vocabulary\n",
    "            # (oov) token, we set mask_token to None and  num_oov_indices to 0.\n",
    "            lookup = layers.StringLookup(\n",
    "                vocabulary=vocabulary,\n",
    "                mask_token=None,\n",
    "                num_oov_indices=0,\n",
    "                output_mode=\"int\",\n",
    "            )\n",
    "\n",
    "            # Convert the string input values into integer indices.\n",
    "            encoded_feature = lookup(inputs[feature_name])\n",
    "\n",
    "            # Create an embedding layer with the specified dimensions.\n",
    "            embedding = layers.Embedding(\n",
    "                input_dim=len(vocabulary), output_dim=embedding_dims\n",
    "            )\n",
    "\n",
    "            # Convert the index values to embedding representations.\n",
    "            encoded_categorical_feature = embedding(encoded_feature)\n",
    "            encoded_categorical_feature_list.append(encoded_categorical_feature)\n",
    "\n",
    "        else:\n",
    "\n",
    "            # Use the numerical features as-is.\n",
    "            numerical_feature = tf.expand_dims(inputs[feature_name], -1)\n",
    "            numerical_feature_list.append(numerical_feature)\n",
    "\n",
    "    return encoded_categorical_feature_list, numerical_feature_list"
   ]
  },
  {
   "cell_type": "code",
   "execution_count": 25,
   "metadata": {},
   "outputs": [],
   "source": [
    "def create_mlp(hidden_units, dropout_rate, activation, normalization_layer, name=None):\n",
    "\n",
    "    mlp_layers = []\n",
    "    for units in hidden_units:\n",
    "        mlp_layers.append(normalization_layer),\n",
    "        mlp_layers.append(layers.Dense(units, activation=activation))\n",
    "        mlp_layers.append(layers.Dropout(dropout_rate))\n",
    "\n",
    "    return keras.Sequential(mlp_layers, name=name)"
   ]
  },
  {
   "cell_type": "code",
   "execution_count": 26,
   "metadata": {},
   "outputs": [
    {
     "name": "stdout",
     "output_type": "stream",
     "text": [
      "Total model weights: 4166657\n",
      "You must install pydot (`pip install pydot`) and install graphviz (see instructions at https://graphviz.gitlab.io/download/) for plot_model to work.\n"
     ]
    }
   ],
   "source": [
    "def create_baseline_model(\n",
    "    embedding_dims, num_mlp_blocks, mlp_hidden_units_factors, dropout_rate\n",
    "):\n",
    "\n",
    "    # Create model inputs.\n",
    "    inputs = create_model_inputs()\n",
    "    # encode features.\n",
    "    encoded_categorical_feature_list, numerical_feature_list = encode_inputs(\n",
    "        inputs, embedding_dims\n",
    "    )\n",
    "    # Concatenate all features.\n",
    "    features = layers.concatenate(\n",
    "        encoded_categorical_feature_list + numerical_feature_list\n",
    "    )\n",
    "    # Compute Feedforward layer units.\n",
    "    feedforward_units = [features.shape[-1]]\n",
    "\n",
    "    # Create several feedforwad layers with skip connections.\n",
    "    for layer_idx in range(num_mlp_blocks):\n",
    "        features = create_mlp(\n",
    "            hidden_units=feedforward_units,\n",
    "            dropout_rate=dropout_rate,\n",
    "            activation=keras.activations.gelu,\n",
    "            normalization_layer=layers.LayerNormalization(epsilon=1e-6),\n",
    "            name=f\"feedforward_{layer_idx}\",\n",
    "        )(features)\n",
    "\n",
    "    # Compute MLP hidden_units.\n",
    "    mlp_hidden_units = [\n",
    "        factor * features.shape[-1] for factor in mlp_hidden_units_factors\n",
    "    ]\n",
    "    # Create final MLP.\n",
    "    features = create_mlp(\n",
    "        hidden_units=mlp_hidden_units,\n",
    "        dropout_rate=dropout_rate,\n",
    "        activation=keras.activations.selu,\n",
    "        normalization_layer=layers.BatchNormalization(),\n",
    "        name=\"MLP\",\n",
    "    )(features)\n",
    "\n",
    "    # Add a sigmoid as a binary classifer.\n",
    "    outputs = layers.Dense(units=1, activation=\"sigmoid\", name=\"sigmoid\")(features)\n",
    "    model = keras.Model(inputs=inputs, outputs=outputs)\n",
    "    return model\n",
    "\n",
    "\n",
    "baseline_model = create_baseline_model(\n",
    "    embedding_dims=EMBEDDING_DIMS,\n",
    "    num_mlp_blocks=NUM_MLP_BLOCKS,\n",
    "    mlp_hidden_units_factors=MLP_HIDDEN_UNITS_FACTORS,\n",
    "    dropout_rate=DROPOUT_RATE,\n",
    ")\n",
    "\n",
    "print(\"Total model weights:\", baseline_model.count_params())\n",
    "keras.utils.plot_model(baseline_model, show_shapes=True, rankdir=\"LR\")"
   ]
  },
  {
   "cell_type": "code",
   "execution_count": 27,
   "metadata": {},
   "outputs": [],
   "source": [
    "def create_tabtransformer_classifier(\n",
    "    num_transformer_blocks,\n",
    "    num_heads,\n",
    "    embedding_dims,\n",
    "    mlp_hidden_units_factors,\n",
    "    dropout_rate,\n",
    "    use_column_embedding=False,\n",
    "):\n",
    "\n",
    "    # Create model inputs.\n",
    "    inputs = create_model_inputs()\n",
    "    # encode features.\n",
    "    encoded_categorical_feature_list, numerical_feature_list = encode_inputs(\n",
    "        inputs, embedding_dims\n",
    "    )\n",
    "    # Stack categorical feature embeddings for the Tansformer.\n",
    "    encoded_categorical_features = tf.stack(encoded_categorical_feature_list, axis=1)\n",
    "    \n",
    "    if use_column_embedding:\n",
    "        num_columns = encoded_categorical_features.shape[1]\n",
    "        column_embedding = layers.Embedding(\n",
    "            input_dim=num_columns, output_dim=embedding_dims\n",
    "        )\n",
    "        column_indices = tf.range(start=0, limit=num_columns, delta=1)\n",
    "        encoded_categorical_features = encoded_categorical_features + column_embedding(\n",
    "            column_indices\n",
    "        )\n",
    "\n",
    "    # Create multiple layers of the Transformer block.\n",
    "    for block_idx in range(num_transformer_blocks):\n",
    "        # Create a multi-head attention layer.\n",
    "        attention_output = layers.MultiHeadAttention(\n",
    "            num_heads=num_heads,\n",
    "            key_dim=embedding_dims,\n",
    "            dropout=dropout_rate,\n",
    "            name=f\"multihead_attention_{block_idx}\",\n",
    "        )(encoded_categorical_features, encoded_categorical_features)\n",
    "        # Skip connection 1.\n",
    "        x = layers.Add(name=f\"skip_connection1_{block_idx}\")(\n",
    "            [attention_output, encoded_categorical_features]\n",
    "        )\n",
    "        # Layer normalization 1.\n",
    "        x = layers.LayerNormalization(name=f\"layer_norm1_{block_idx}\", epsilon=1e-6)(x)\n",
    "        # Feedforward.\n",
    "        feedforward_output = create_mlp(\n",
    "            hidden_units=[embedding_dims],\n",
    "            dropout_rate=dropout_rate,\n",
    "            activation=keras.activations.gelu,\n",
    "            normalization_layer=layers.LayerNormalization(epsilon=1e-6),\n",
    "            name=f\"feedforward_{block_idx}\",\n",
    "        )(x)\n",
    "        # Skip connection 2.\n",
    "        x = layers.Add(name=f\"skip_connection2_{block_idx}\")([feedforward_output, x])\n",
    "        # Layer normalization 2.\n",
    "        encoded_categorical_features = layers.LayerNormalization(\n",
    "            name=f\"layer_norm2_{block_idx}\", epsilon=1e-6\n",
    "        )(x)\n",
    "\n",
    "    # Flatten the \"contextualized\" embeddings of the categorical features.\n",
    "    features = layers.Flatten()(encoded_categorical_features)\n",
    "   \n",
    "    # Compute MLP hidden_units.\n",
    "    mlp_hidden_units = [\n",
    "        factor * features.shape[-1] for factor in mlp_hidden_units_factors\n",
    "    ]\n",
    "    # Create final MLP.\n",
    "    features = create_mlp(\n",
    "        hidden_units=mlp_hidden_units,\n",
    "        dropout_rate=dropout_rate,\n",
    "        activation=keras.activations.selu,\n",
    "        normalization_layer=layers.BatchNormalization(),\n",
    "        name=\"MLP\",\n",
    "    )(features)\n",
    "\n",
    "    # Add a sigmoid as a binary classifer.\n",
    "    outputs = layers.Dense(units=1, activation=\"sigmoid\", name=\"sigmoid\")(features)\n",
    "    model = keras.Model(inputs=inputs, outputs=outputs)\n",
    "    return model\n",
    "\n"
   ]
  },
  {
   "cell_type": "code",
   "execution_count": 28,
   "metadata": {},
   "outputs": [
    {
     "name": "stdout",
     "output_type": "stream",
     "text": [
      "Total model weights: 2800577\n",
      "You must install pydot (`pip install pydot`) and install graphviz (see instructions at https://graphviz.gitlab.io/download/) for plot_model to work.\n",
      "Start training the model...\n",
      "Epoch 1/30\n",
      "17/17 [==============================] - 11s 167ms/step - loss: 2.4514 - accuracy: 0.5515 - get_f1: 0.3119 - precision: 0.5294 - recall: 0.2222 - val_loss: 2.0793 - val_accuracy: 0.7586 - val_get_f1: 0.8422 - val_precision: 0.7344 - val_recall: 1.0000\n",
      "Epoch 2/30\n",
      "17/17 [==============================] - 1s 63ms/step - loss: 2.3620 - accuracy: 0.4809 - get_f1: 0.3424 - precision: 0.5225 - recall: 0.2564 - val_loss: 0.7302 - val_accuracy: 0.7586 - val_get_f1: 0.8422 - val_precision: 0.7344 - val_recall: 1.0000\n",
      "Epoch 3/30\n",
      "17/17 [==============================] - 1s 63ms/step - loss: 1.8732 - accuracy: 0.4771 - get_f1: 0.3325 - precision: 0.5176 - recall: 0.2459 - val_loss: 0.8855 - val_accuracy: 0.2552 - val_get_f1: 0.0303 - val_precision: 0.3000 - val_recall: 0.0161\n",
      "Epoch 4/30\n",
      "17/17 [==============================] - 1s 64ms/step - loss: 1.4227 - accuracy: 0.4561 - get_f1: 0.3125 - precision: 0.5216 - recall: 0.2255 - val_loss: 0.5433 - val_accuracy: 0.7586 - val_get_f1: 0.8422 - val_precision: 0.7344 - val_recall: 1.0000\n",
      "Epoch 5/30\n",
      "17/17 [==============================] - 1s 66ms/step - loss: 1.1159 - accuracy: 0.5095 - get_f1: 0.3356 - precision: 0.5187 - recall: 0.2495 - val_loss: 0.7095 - val_accuracy: 0.4897 - val_get_f1: 0.5444 - val_precision: 0.6496 - val_recall: 0.4727\n",
      "Epoch 6/30\n",
      "17/17 [==============================] - 1s 68ms/step - loss: 0.8988 - accuracy: 0.5076 - get_f1: 0.3385 - precision: 0.5216 - recall: 0.2518 - val_loss: 1.4283 - val_accuracy: 0.2414 - val_get_f1: 0.0000e+00 - val_precision: 0.0000e+00 - val_recall: 0.0000e+00\n",
      "Epoch 7/30\n",
      "17/17 [==============================] - 1s 64ms/step - loss: 0.7794 - accuracy: 0.5420 - get_f1: 0.3402 - precision: 0.5210 - recall: 0.2533 - val_loss: 1.3658 - val_accuracy: 0.2379 - val_get_f1: 0.0000e+00 - val_precision: 0.0000e+00 - val_recall: 0.0000e+00\n",
      "Epoch 8/30\n",
      "17/17 [==============================] - 1s 65ms/step - loss: 0.7159 - accuracy: 0.6298 - get_f1: 0.3770 - precision: 0.5210 - recall: 0.2992 - val_loss: 1.0311 - val_accuracy: 0.3138 - val_get_f1: 0.1704 - val_precision: 0.7500 - val_recall: 0.0984\n",
      "Epoch 9/30\n",
      "17/17 [==============================] - 1s 63ms/step - loss: 0.6681 - accuracy: 0.6660 - get_f1: 0.3850 - precision: 0.5245 - recall: 0.3055 - val_loss: 0.7472 - val_accuracy: 0.6000 - val_get_f1: 0.6790 - val_precision: 0.8321 - val_recall: 0.6071\n",
      "Epoch 10/30\n",
      "17/17 [==============================] - 1s 64ms/step - loss: 0.6570 - accuracy: 0.6508 - get_f1: 0.3682 - precision: 0.5163 - recall: 0.2910 - val_loss: 0.6195 - val_accuracy: 0.8241 - val_get_f1: 0.8679 - val_precision: 0.8160 - val_recall: 0.9432\n",
      "Epoch 11/30\n",
      "17/17 [==============================] - 1s 63ms/step - loss: 0.6089 - accuracy: 0.6660 - get_f1: 0.3916 - precision: 0.5163 - recall: 0.3216 - val_loss: 0.7537 - val_accuracy: 0.5724 - val_get_f1: 0.6828 - val_precision: 0.8574 - val_recall: 0.5805\n",
      "Epoch 12/30\n",
      "17/17 [==============================] - 1s 65ms/step - loss: 0.5404 - accuracy: 0.7443 - get_f1: 0.4151 - precision: 0.5241 - recall: 0.3492 - val_loss: 1.0726 - val_accuracy: 0.2690 - val_get_f1: 0.0777 - val_precision: 0.6000 - val_recall: 0.0422\n",
      "Epoch 13/30\n",
      "17/17 [==============================] - 1s 64ms/step - loss: 0.4833 - accuracy: 0.7882 - get_f1: 0.4406 - precision: 0.5210 - recall: 0.3850 - val_loss: 1.0436 - val_accuracy: 0.2966 - val_get_f1: 0.1310 - val_precision: 0.7300 - val_recall: 0.0732\n",
      "Epoch 14/30\n",
      "17/17 [==============================] - 1s 64ms/step - loss: 0.4842 - accuracy: 0.7920 - get_f1: 0.4428 - precision: 0.5294 - recall: 0.3895 - val_loss: 1.0924 - val_accuracy: 0.3276 - val_get_f1: 0.3233 - val_precision: 0.7952 - val_recall: 0.2383\n",
      "Epoch 15/30\n",
      "17/17 [==============================] - 1s 64ms/step - loss: 0.4478 - accuracy: 0.8073 - get_f1: 0.4542 - precision: 0.5184 - recall: 0.4062 - val_loss: 1.2374 - val_accuracy: 0.3172 - val_get_f1: 0.1681 - val_precision: 0.8250 - val_recall: 0.0961\n",
      "Epoch 16/30\n",
      "17/17 [==============================] - 1s 65ms/step - loss: 0.3825 - accuracy: 0.8340 - get_f1: 0.4748 - precision: 0.5294 - recall: 0.4359 - val_loss: 0.6444 - val_accuracy: 0.8103 - val_get_f1: 0.8583 - val_precision: 0.8129 - val_recall: 0.9263\n",
      "Epoch 17/30\n",
      "17/17 [==============================] - 1s 64ms/step - loss: 0.4196 - accuracy: 0.8244 - get_f1: 0.4749 - precision: 0.5294 - recall: 0.4345 - val_loss: 3.2313 - val_accuracy: 0.1966 - val_get_f1: 0.0205 - val_precision: 0.1750 - val_recall: 0.0112\n",
      "Epoch 18/30\n",
      "17/17 [==============================] - 1s 63ms/step - loss: 0.4160 - accuracy: 0.8321 - get_f1: 0.4712 - precision: 0.5216 - recall: 0.4338 - val_loss: 2.3678 - val_accuracy: 0.2241 - val_get_f1: 0.0067 - val_precision: 0.1000 - val_recall: 0.0034\n",
      "Epoch 19/30\n",
      "17/17 [==============================] - 1s 60ms/step - loss: 0.3187 - accuracy: 0.8760 - get_f1: 0.4963 - precision: 0.5294 - recall: 0.4688 - val_loss: 0.6476 - val_accuracy: 0.8172 - val_get_f1: 0.8647 - val_precision: 0.8065 - val_recall: 0.9480\n",
      "Epoch 20/30\n",
      "17/17 [==============================] - 1s 61ms/step - loss: 0.3429 - accuracy: 0.8550 - get_f1: 0.4909 - precision: 0.5261 - recall: 0.4625 - val_loss: 1.4943 - val_accuracy: 0.3034 - val_get_f1: 0.1438 - val_precision: 0.8417 - val_recall: 0.0799\n",
      "Epoch 21/30\n",
      "17/17 [==============================] - 1s 61ms/step - loss: 0.2979 - accuracy: 0.8893 - get_f1: 0.4978 - precision: 0.5294 - recall: 0.4731 - val_loss: 2.0377 - val_accuracy: 0.2793 - val_get_f1: 0.0817 - val_precision: 0.5000 - val_recall: 0.0453\n",
      "Epoch 22/30\n",
      "17/17 [==============================] - 1s 60ms/step - loss: 0.2717 - accuracy: 0.8798 - get_f1: 0.4938 - precision: 0.5257 - recall: 0.4702 - val_loss: 3.6352 - val_accuracy: 0.2310 - val_get_f1: 0.0067 - val_precision: 0.1000 - val_recall: 0.0034\n",
      "Epoch 23/30\n",
      "17/17 [==============================] - 1s 63ms/step - loss: 0.2625 - accuracy: 0.8969 - get_f1: 0.4977 - precision: 0.5294 - recall: 0.4743 - val_loss: 2.3592 - val_accuracy: 0.2379 - val_get_f1: 0.0287 - val_precision: 0.2500 - val_recall: 0.0154\n",
      "Epoch 24/30\n",
      "17/17 [==============================] - 1s 61ms/step - loss: 0.2520 - accuracy: 0.8950 - get_f1: 0.4997 - precision: 0.5201 - recall: 0.4829 - val_loss: 0.6562 - val_accuracy: 0.7517 - val_get_f1: 0.8114 - val_precision: 0.8252 - val_recall: 0.8224\n",
      "Epoch 25/30\n",
      "17/17 [==============================] - 1s 62ms/step - loss: 0.2019 - accuracy: 0.9103 - get_f1: 0.5019 - precision: 0.5265 - recall: 0.4817 - val_loss: 4.3756 - val_accuracy: 0.1828 - val_get_f1: 0.0210 - val_precision: 0.1417 - val_recall: 0.0122\n",
      "Epoch 26/30\n",
      "17/17 [==============================] - 1s 61ms/step - loss: 0.2047 - accuracy: 0.9313 - get_f1: 0.5127 - precision: 0.5269 - recall: 0.5001 - val_loss: 1.5921 - val_accuracy: 0.3414 - val_get_f1: 0.2921 - val_precision: 0.6475 - val_recall: 0.1914\n",
      "Epoch 27/30\n",
      "17/17 [==============================] - 1s 61ms/step - loss: 0.2400 - accuracy: 0.8969 - get_f1: 0.5001 - precision: 0.5265 - recall: 0.4786 - val_loss: 1.8699 - val_accuracy: 0.3345 - val_get_f1: 0.2174 - val_precision: 0.7717 - val_recall: 0.1283\n",
      "Epoch 28/30\n",
      "17/17 [==============================] - 1s 60ms/step - loss: 0.1675 - accuracy: 0.9313 - get_f1: 0.5094 - precision: 0.5261 - recall: 0.4962 - val_loss: 1.9292 - val_accuracy: 0.2931 - val_get_f1: 0.2922 - val_precision: 0.6483 - val_recall: 0.2190\n",
      "Epoch 29/30\n",
      "17/17 [==============================] - 1s 62ms/step - loss: 0.2020 - accuracy: 0.9237 - get_f1: 0.5077 - precision: 0.5294 - recall: 0.4913 - val_loss: 1.2219 - val_accuracy: 0.4379 - val_get_f1: 0.5572 - val_precision: 0.7812 - val_recall: 0.4511\n",
      "Epoch 30/30\n",
      "17/17 [==============================] - 1s 61ms/step - loss: 0.2447 - accuracy: 0.8969 - get_f1: 0.4989 - precision: 0.5225 - recall: 0.4806 - val_loss: 1.6213 - val_accuracy: 0.5069 - val_get_f1: 0.6203 - val_precision: 0.8308 - val_recall: 0.5094\n",
      "Model training finished\n",
      "Test accuracy: 50.52%\n",
      "Test f1: 0.616116\n",
      "Test accuracy: 0.505155\n",
      "Test Precision: 0.82995\n",
      "Test Recall: 0.491379\n"
     ]
    }
   ],
   "source": [
    "\n",
    "tabtransformer_model = create_tabtransformer_classifier(\n",
    "    num_transformer_blocks=NUM_TRANSFORMER_BLOCKS,\n",
    "    num_heads=NUM_HEADS,\n",
    "    embedding_dims=EMBEDDING_DIMS,\n",
    "    mlp_hidden_units_factors=MLP_HIDDEN_UNITS_FACTORS,\n",
    "    dropout_rate=DROPOUT_RATE,\n",
    ")\n",
    "\n",
    "print(\"Total model weights:\", tabtransformer_model.count_params())\n",
    "keras.utils.plot_model(tabtransformer_model, show_shapes=True, rankdir=\"LR\")\n",
    "\n",
    "history = run_experiment(\n",
    "    model=tabtransformer_model,\n",
    "    train_data_file=train_data_file,\n",
    "    test_data_file=test_data_file,\n",
    "    val_data_file=val_data_file,\n",
    "    num_epochs=NUM_EPOCHS,\n",
    "    learning_rate=LEARNING_RATE,\n",
    "    weight_decay=WEIGHT_DECAY,\n",
    "    batch_size=BATCH_SIZE,\n",
    ")"
   ]
  },
  {
   "cell_type": "code",
   "execution_count": 29,
   "metadata": {},
   "outputs": [
    {
     "name": "stderr",
     "output_type": "stream",
     "text": [
      "c:\\Code\\Malik\\venv\\Lib\\site-packages\\keras\\src\\engine\\training.py:3079: UserWarning: You are saving your model as an HDF5 file via `model.save()`. This file format is considered legacy. We recommend using instead the native Keras format, e.g. `model.save('my_model.keras')`.\n",
      "  saving_api.save_model(\n"
     ]
    }
   ],
   "source": [
    "tabtransformer_model.save(f\"tab_aneurysm_model.h5\")"
   ]
  },
  {
   "cell_type": "code",
   "execution_count": 30,
   "metadata": {},
   "outputs": [
    {
     "name": "stdout",
     "output_type": "stream",
     "text": [
      "10/10 [==============================] - 1s 25ms/step\n"
     ]
    }
   ],
   "source": [
    "test_dataset = get_dataset_from_csv(test_data_file, BATCH_SIZE)\n",
    "\n",
    "predictions = tabtransformer_model.predict(test_dataset)\n",
    "y_true = []  # Assuming your validation dataset contains labels (ground truth)\n",
    "for _, labels in test_dataset:\n",
    "    y_true.append(labels)\n",
    "\n",
    "y_true = tf.concat(y_true, axis=0).numpy().tolist()\n",
    "threshold = 0.5\n",
    "\n",
    "binary_predictions = (predictions >= threshold).astype(int)\n",
    "binary_predictions = binary_predictions.flatten()"
   ]
  },
  {
   "cell_type": "code",
   "execution_count": 31,
   "metadata": {},
   "outputs": [
    {
     "name": "stdout",
     "output_type": "stream",
     "text": [
      "1    230\n",
      "0     61\n",
      "Name: count, dtype: int64\n"
     ]
    }
   ],
   "source": [
    "\n",
    "y_true_series = pd.Series(y_true)\n",
    "\n",
    "# Get the counts of each unique label\n",
    "label_counts = y_true_series.value_counts()\n",
    "\n",
    "# Display the counts\n",
    "print(label_counts)"
   ]
  },
  {
   "cell_type": "code",
   "execution_count": 32,
   "metadata": {},
   "outputs": [
    {
     "data": {
      "image/png": "[encoded data removed]",
      "text/plain": [
       "<Figure size 640x480 with 1 Axes>"
      ]
     },
     "metadata": {},
     "output_type": "display_data"
    }
   ],
   "source": [
    "from sklearn import metrics\n",
    "\n",
    "fpr, tpr, _ = metrics.roc_curve(y_true,  binary_predictions) #False positive (speficifity) and true positive (sensitivity) rate\n",
    "auc = metrics.roc_auc_score(y_true, predictions) \n",
    "plt.plot(fpr,tpr,label=\"data 1, auc=\"+str(auc))\n",
    "plt.legend(loc=4)\n",
    "plt.show()"
   ]
  },
  {
   "cell_type": "code",
   "execution_count": 33,
   "metadata": {},
   "outputs": [
    {
     "name": "stdout",
     "output_type": "stream",
     "text": [
      "Threshold: 0.10, Precision: 0.3067, Recall: 0.3770, F1: 0.3382\n",
      "Threshold: 0.20, Precision: 0.2727, Recall: 0.4426, F1: 0.3375\n",
      "Threshold: 0.30, Precision: 0.2712, Recall: 0.5246, F1: 0.3575\n",
      "Threshold: 0.40, Precision: 0.2518, Recall: 0.5738, F1: 0.3500\n",
      "Threshold: 0.50, Precision: 0.2357, Recall: 0.6066, F1: 0.3394\n",
      "Threshold: 0.60, Precision: 0.2222, Recall: 0.6230, F1: 0.3276\n",
      "Threshold: 0.70, Precision: 0.2165, Recall: 0.6885, F1: 0.3294\n",
      "Threshold: 0.80, Precision: 0.2277, Recall: 0.8361, F1: 0.3579\n",
      "Threshold: 0.90, Precision: 0.2154, Recall: 0.8689, F1: 0.3453\n",
      "\n",
      "Best Threshold: 0.80, Best F1 Score: 0.3579\n"
     ]
    }
   ],
   "source": [
    "\n",
    "from sklearn.metrics import precision_score, recall_score, f1_score\n",
    "\n",
    "# Assuming 'y_true' contains the true labels for the test dataset\n",
    "\n",
    "# Define a range of thresholds\n",
    "thresholds = [0.1, 0.2, 0.3, 0.4, 0.5, 0.6, 0.7, 0.8, 0.9]\n",
    "\n",
    "# Initialize variables to store best threshold and corresponding metrics\n",
    "best_threshold = None\n",
    "best_f1_score = 0.0\n",
    "\n",
    "# Iterate through thresholds\n",
    "for threshold in thresholds:\n",
    "    # Convert predictions to binary based on the threshold\n",
    "    binary_predictions = (predictions >= threshold).astype(int).flatten()\n",
    "\n",
    "    # Calculate metrics\n",
    "    precision = precision_score(y_true, binary_predictions, pos_label=0)\n",
    "    recall = recall_score(y_true, binary_predictions, pos_label=0)\n",
    "    f1 = f1_score(y_true, binary_predictions, pos_label=0)\n",
    "\n",
    "    # Print or store metrics for analysis\n",
    "    print(f\"Threshold: {threshold:.2f}, Precision: {precision:.4f}, Recall: {recall:.4f}, F1: {f1:.4f}\")\n",
    "\n",
    "    # Update best threshold if F1-score improves\n",
    "    if f1 > best_f1_score:\n",
    "        best_threshold = threshold\n",
    "        best_f1_score = f1\n",
    "\n",
    "# Print the best threshold\n",
    "print(f\"\\nBest Threshold: {best_threshold:.2f}, Best F1 Score: {best_f1_score:.4f}\")\n"
   ]
  },
  {
   "cell_type": "code",
   "execution_count": 35,
   "metadata": {},
   "outputs": [
    {
     "data": {
      "image/png": "[encoded data removed]",
      "text/plain": [
       "<Figure size 640x480 with 2 Axes>"
      ]
     },
     "metadata": {},
     "output_type": "display_data"
    }
   ],
   "source": [
    "best_binary_predictions = (predictions >= best_threshold).astype(int).flatten()\n",
    "confusion_matrix = metrics.confusion_matrix(y_true, best_binary_predictions)\n",
    "cm_display = metrics.ConfusionMatrixDisplay(confusion_matrix = confusion_matrix, display_labels = ['Ruptured', 'Unruptured'])\n",
    "\n",
    "cm_display.plot()\n",
    "plt.show()"
   ]
  }
 ],
 "metadata": {
  "kernelspec": {
   "display_name": "venv",
   "language": "python",
   "name": "python3"
  },
  "language_info": {
   "codemirror_mode": {
    "name": "ipython",
    "version": 3
   },
   "file_extension": ".py",
   "mimetype": "text/x-python",
   "name": "python",
   "nbconvert_exporter": "python",
   "pygments_lexer": "ipython3",
   "version": "3.11.3"
  }
 },
 "nbformat": 4,
 "nbformat_minor": 2
}
