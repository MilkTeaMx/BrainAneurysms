{
  "cells": [
    {
      "cell_type": "markdown",
      "metadata": {
        "id": "vA4aqaXoeCU7"
      },
      "source": [
        "# Import"
      ]
    },
    {
      "cell_type": "code",
      "execution_count": 1,
      "metadata": {
        "id": "Po5heDGjeCU8"
      },
      "outputs": [],
      "source": [
        "import pandas as pd\n",
        "from sklearn.linear_model import LogisticRegression\n",
        "from sklearn.tree import DecisionTreeClassifier\n",
        "#Ensemble classifications models\n",
        "from sklearn.ensemble import RandomForestClassifier, GradientBoostingClassifier\n",
        "#Model evaluation\n",
        "from sklearn.model_selection import train_test_split\n",
        "from sklearn.metrics import (accuracy_score,confusion_matrix, classification_report, roc_auc_score,\n",
        "f1_score, recall_score, precision_score)\n",
        "import pickle\n",
        "from sklearn.preprocessing import OneHotEncoder\n",
        "from sklearn import preprocessing\n",
        "from sklearn.preprocessing import LabelEncoder\n",
        "import numpy as np\n",
        "from collections import Counter\n",
        "from sklearn.ensemble import AdaBoostClassifier\n",
        "import matplotlib.pyplot as plt"
      ]
    },
    {
      "cell_type": "code",
      "execution_count": 2,
      "metadata": {
        "id": "Y110J-NleCU9"
      },
      "outputs": [],
      "source": [
        "Modelname = 'RandomForestClassifier_model.sav'"
      ]
    },
    {
      "cell_type": "markdown",
      "metadata": {
        "id": "hgIe-oZxeCU9"
      },
      "source": [
        "# Functions"
      ]
    },
    {
      "cell_type": "code",
      "execution_count": 3,
      "metadata": {
        "id": "9qeBogCgeCU9"
      },
      "outputs": [],
      "source": [
        "def baseline_models(data=[], verbose=False):\n",
        "    #List of models to be used\n",
        "    models=[DecisionTreeClassifier(),LogisticRegression(max_iter=100),\n",
        "            RandomForestClassifier(n_estimators=100,criterion='entropy',random_state=101),\n",
        "            GradientBoostingClassifier(learning_rate=0.1,random_state=1,n_estimators=100,min_samples_split=5,min_samples_leaf=1,subsample=0.8,max_depth=3),\n",
        "            AdaBoostClassifier(DecisionTreeClassifier(max_depth=1),n_estimators=200,random_state=1,learning_rate=1)\n",
        "]\n",
        "    #Create training and testing data sets depending on wheather or not they have been generated previously.\n",
        "    if len(data)== 2:\n",
        "        X_train, X_test, y_train, y_test = train_test_split(data[0],data[1],random_state=123)\n",
        "    else:\n",
        "        X_train, X_test, y_train, y_test = data[0],data[1],data[2],data[3]\n",
        "    #Instantiate lists to store each of the models results\n",
        "    accuracy = []\n",
        "    f1 = []\n",
        "    auc = []\n",
        "    recall = []\n",
        "    precision = []\n",
        "    #Run thorugh each of the models to get their performance metrics\n",
        "    for model in models:\n",
        "        clf = model\n",
        "        clf.fit(X_train, y_train)\n",
        "        test_preds = clf.predict(X_test)\n",
        "        f1.append(f1_score(y_test, test_preds,average='macro'))\n",
        "        accuracy.append(accuracy_score(y_test, test_preds))\n",
        "        # auc.append(roc_auc_score(y_test, test_preds,multi_class=\"ovr\" ))\n",
        "        recall.append(recall_score(y_test, test_preds,average='macro'))\n",
        "        precision.append(precision_score(y_test, test_preds,average='macro'))\n",
        "        #Print the model and its report\n",
        "        if verbose:\n",
        "            print('Classification Model: ',model,'\\n')\n",
        "            print(classification_report(y_test, test_preds),'\\n')\n",
        "    #store results in dataframe\n",
        "    results = pd.DataFrame([f1, accuracy, precision,recall],\n",
        "                      index= ['f1','accuracy','precision','recall',],\n",
        "                           columns=['DecisionTree','LogisticRegression','RandomForest','Gradient Boosting','AdaBoostClassifier'])\n",
        "    #Change orientation of the dataframe\n",
        "    return results.transpose()"
      ]
    },
    {
      "cell_type": "markdown",
      "metadata": {
        "id": "y52vJBc_eCU9"
      },
      "source": [
        "# ML"
      ]
    },
    {
      "cell_type": "code",
      "execution_count": 4,
      "metadata": {
        "id": "GjxZje1ZeCU9"
      },
      "outputs": [],
      "source": [
        "path='./data/aneurysm_data_apriori.csv'"
      ]
    },
    {
      "cell_type": "code",
      "execution_count": 5,
      "metadata": {
        "id": "vy3WVjDoeCU-"
      },
      "outputs": [],
      "source": [
        "aneurysm_DataSet=pd.read_csv(path)"
      ]
    },
    {
      "cell_type": "code",
      "execution_count": 6,
      "metadata": {
        "id": "Uktl2Mj1eCU-",
        "outputId": "f1e47aed-4aca-4be3-b940-dd6fa4f690ee"
      },
      "outputs": [
        {
          "name": "stdout",
          "output_type": "stream",
          "text": [
            "Original class counts: Counter({'no': 1541, 'yes': 393})\n"
          ]
        }
      ],
      "source": [
        "aneurysm_DataSet = aneurysm_DataSet.drop(columns=['Record ID', 'Status of aneurysm_Un-Ruptured', 'Status of aneurysm_Unknown'], axis=1)\n",
        "\n",
        "#Moving Target to the final col\n",
        "column_to_move = aneurysm_DataSet.pop(\"Status of aneurysm_Ruptured\")\n",
        "aneurysm_DataSet['Status of aneurysm_Ruptured'] = column_to_move\n",
        "aneurysm_DataSet['Status of aneurysm_Ruptured'] = aneurysm_DataSet['Status of aneurysm_Ruptured'] .map({1:'yes', 0:'no'})\n",
        "\n",
        "target = aneurysm_DataSet['Status of aneurysm_Ruptured']\n",
        "\n",
        "print(f\"Original class counts: {Counter(target)}\")"
      ]
    },
    {
      "cell_type": "code",
      "execution_count": 7,
      "metadata": {},
      "outputs": [
        {
          "data": {
            "text/plain": [
              "0       no\n",
              "1       no\n",
              "2       no\n",
              "3       no\n",
              "4       no\n",
              "        ..\n",
              "1929    no\n",
              "1930    no\n",
              "1931    no\n",
              "1932    no\n",
              "1933    no\n",
              "Name: Status of aneurysm_Ruptured, Length: 1934, dtype: object"
            ]
          },
          "execution_count": 7,
          "metadata": {},
          "output_type": "execute_result"
        }
      ],
      "source": [
        "target"
      ]
    },
    {
      "cell_type": "code",
      "execution_count": 8,
      "metadata": {
        "id": "038b9zAreCU_",
        "outputId": "1ba4dd9b-ab10-4902-c97c-cd156693a66c"
      },
      "outputs": [
        {
          "name": "stdout",
          "output_type": "stream",
          "text": [
            "X_train (1353, 52) X_test (581, 52)\n",
            "Original class counts y_train: Counter({'no': 1072, 'yes': 281})\n",
            "Original class counts y_test: Counter({'no': 469, 'yes': 112})\n"
          ]
        }
      ],
      "source": [
        "# load the dataset\n",
        "dataset =  aneurysm_DataSet\n",
        "data = dataset.values\n",
        "# separate into input and output columns\n",
        "X = data[:, :-1].astype(str)\n",
        "y = data[:, -1].astype(str)\n",
        "\n",
        "# split the dataset into train and test sets\n",
        "X_train, X_test, y_train, y_test = train_test_split(X, y, test_size=0.30, random_state=1)\n",
        "print('X_train',X_train.shape,'X_test',X_test.shape)\n",
        "\n",
        "print(f\"Original class counts y_train: {Counter(y_train)}\")\n",
        "print(f\"Original class counts y_test: {Counter(y_test)}\")\n",
        "\n"
      ]
    },
    {
      "cell_type": "code",
      "execution_count": 9,
      "metadata": {},
      "outputs": [],
      "source": [
        "from imblearn.under_sampling import RandomUnderSampler\n",
        "from imblearn.over_sampling import RandomOverSampler\n",
        "\n",
        "oversample = RandomOverSampler(sampling_strategy='minority')\n",
        "X_over, y_over = oversample.fit_resample(X, y)\n",
        "\n",
        "\n",
        "undersample = RandomUnderSampler(sampling_strategy='majority')\n",
        "X_under, y_under = undersample.fit_resample(X, y)\n"
      ]
    },
    {
      "cell_type": "code",
      "execution_count": 10,
      "metadata": {},
      "outputs": [
        {
          "name": "stdout",
          "output_type": "stream",
          "text": [
            "Unique values in y_resampled: ['no' 'yes']\n",
            "Counts of unique values in y_resampled: [1541  393]\n"
          ]
        }
      ],
      "source": [
        "y = np.array(y)\n",
        "yes_indices = np.where(y == 'yes')[0]\n",
        "no_indices = np.where(y == 'no')[0]\n",
        "\n",
        "minority_class_count = min(len(yes_indices), len(no_indices))\n",
        "undersampled_no_indices = np.random.choice(no_indices, minority_class_count, replace=False)\n",
        "undersampled_indices = np.concatenate([yes_indices, undersampled_no_indices])\n",
        "\n",
        "# Undersampled y\n",
        "x_undersampled = X[undersampled_indices]\n",
        "y_undersampled = y[undersampled_indices]\n",
        "\n",
        "\n",
        "unique_y, counts_y = np.unique(y, return_counts=True)\n",
        "print(\"Unique values in y_resampled:\", unique_y)\n",
        "print(\"Counts of unique values in y_resampled:\", counts_y)"
      ]
    },
    {
      "cell_type": "code",
      "execution_count": 12,
      "metadata": {},
      "outputs": [],
      "source": [
        "\n",
        "# one-hot encode input variables\n",
        "onehot_encoder = OneHotEncoder(handle_unknown='ignore')\n",
        "onehot_encoder.fit(X_train)\n",
        "X_train = onehot_encoder.transform(X_train)\n",
        "X_test = onehot_encoder.transform(X_test)\n",
        "# ordinal encode target variable\n",
        "label_encoder = LabelEncoder()\n",
        "label_encoder.fit(y_train)\n",
        "y_train = label_encoder.transform(y_train)\n",
        "y_test = label_encoder.transform(y_test)\n"
      ]
    },
    {
      "cell_type": "code",
      "execution_count": 13,
      "metadata": {
        "id": "sRAuvBiweCU_",
        "outputId": "891fe5f9-d71f-4c4d-9b18-f5a44bba6ffd"
      },
      "outputs": [
        {
          "name": "stderr",
          "output_type": "stream",
          "text": [
            "c:\\Code\\Malik\\venv\\Lib\\site-packages\\sklearn\\linear_model\\_logistic.py:460: ConvergenceWarning: lbfgs failed to converge (status=1):\n",
            "STOP: TOTAL NO. of ITERATIONS REACHED LIMIT.\n",
            "\n",
            "Increase the number of iterations (max_iter) or scale the data as shown in:\n",
            "    https://scikit-learn.org/stable/modules/preprocessing.html\n",
            "Please also refer to the documentation for alternative solver options:\n",
            "    https://scikit-learn.org/stable/modules/linear_model.html#logistic-regression\n",
            "  n_iter_i = _check_optimize_result(\n"
          ]
        },
        {
          "data": {
            "text/html": [
              "<div>\n",
              "<style scoped>\n",
              "    .dataframe tbody tr th:only-of-type {\n",
              "        vertical-align: middle;\n",
              "    }\n",
              "\n",
              "    .dataframe tbody tr th {\n",
              "        vertical-align: top;\n",
              "    }\n",
              "\n",
              "    .dataframe thead th {\n",
              "        text-align: right;\n",
              "    }\n",
              "</style>\n",
              "<table border=\"1\" class=\"dataframe\">\n",
              "  <thead>\n",
              "    <tr style=\"text-align: right;\">\n",
              "      <th></th>\n",
              "      <th>f1</th>\n",
              "      <th>accuracy</th>\n",
              "      <th>precision</th>\n",
              "      <th>recall</th>\n",
              "    </tr>\n",
              "  </thead>\n",
              "  <tbody>\n",
              "    <tr>\n",
              "      <th>RandomForest</th>\n",
              "      <td>0.696764</td>\n",
              "      <td>0.824441</td>\n",
              "      <td>0.714802</td>\n",
              "      <td>0.683969</td>\n",
              "    </tr>\n",
              "    <tr>\n",
              "      <th>AdaBoostClassifier</th>\n",
              "      <td>0.694965</td>\n",
              "      <td>0.829604</td>\n",
              "      <td>0.724900</td>\n",
              "      <td>0.676972</td>\n",
              "    </tr>\n",
              "    <tr>\n",
              "      <th>LogisticRegression</th>\n",
              "      <td>0.690898</td>\n",
              "      <td>0.833046</td>\n",
              "      <td>0.733794</td>\n",
              "      <td>0.668910</td>\n",
              "    </tr>\n",
              "    <tr>\n",
              "      <th>Gradient Boosting</th>\n",
              "      <td>0.680013</td>\n",
              "      <td>0.822719</td>\n",
              "      <td>0.710778</td>\n",
              "      <td>0.662513</td>\n",
              "    </tr>\n",
              "    <tr>\n",
              "      <th>DecisionTree</th>\n",
              "      <td>0.616577</td>\n",
              "      <td>0.757315</td>\n",
              "      <td>0.614758</td>\n",
              "      <td>0.618603</td>\n",
              "    </tr>\n",
              "  </tbody>\n",
              "</table>\n",
              "</div>"
            ],
            "text/plain": [
              "                          f1  accuracy  precision    recall\n",
              "RandomForest        0.696764  0.824441   0.714802  0.683969\n",
              "AdaBoostClassifier  0.694965  0.829604   0.724900  0.676972\n",
              "LogisticRegression  0.690898  0.833046   0.733794  0.668910\n",
              "Gradient Boosting   0.680013  0.822719   0.710778  0.662513\n",
              "DecisionTree        0.616577  0.757315   0.614758  0.618603"
            ]
          },
          "execution_count": 13,
          "metadata": {},
          "output_type": "execute_result"
        }
      ],
      "source": [
        "results = baseline_models(data=[X_train, X_test, y_train, y_test])\n",
        "results.sort_values('f1',ascending=False)"
      ]
    },
    {
      "cell_type": "markdown",
      "metadata": {
        "id": "Y85Y5ivneCU_"
      },
      "source": [
        "# RandomForestClassifier"
      ]
    },
    {
      "cell_type": "code",
      "execution_count": 14,
      "metadata": {
        "id": "XJN1BakHeCU_"
      },
      "outputs": [],
      "source": [
        "df_train = aneurysm_DataSet.drop(\"Status of aneurysm_Ruptured\", axis=1)\n",
        "train_labels = aneurysm_DataSet[\"Status of aneurysm_Ruptured\"]"
      ]
    },
    {
      "cell_type": "code",
      "execution_count": 15,
      "metadata": {
        "id": "qywDtg0LeCU_"
      },
      "outputs": [],
      "source": [
        "encoders = []\n",
        "features = []\n",
        "for i in range(df_train.shape[1]):\n",
        "    encoder_i = OneHotEncoder(handle_unknown='ignore')\n",
        "    i_column = df_train.columns[i]\n",
        "    encoder_i.fit(df_train[i_column].values.reshape(-1, 1))\n",
        "    encoded_feature = encoder_i.transform(df_train[i_column].values.reshape(-1, 1))\n",
        "    encoded_feature = encoded_feature.toarray()\n",
        "    features.append(encoded_feature)\n",
        "    encoders.append(encoder_i)\n",
        "\n",
        "def get_oh(df):\n",
        "    features_test = []\n",
        "    for i in range(88):\n",
        "        encoder_i = encoders[i]\n",
        "        i_column = aneurysm_DataSet.columns[i]\n",
        "        encoded_test = encoder_i.transform(df[i_column].values.reshape(-1, 1))\n",
        "        encoded_test = encoded_test.toarray()\n",
        "        features_test.append(encoded_test)\n",
        "    return  np.concatenate(features_test, axis=1)\n",
        "\n",
        "train_features = np.concatenate(features, axis=1)\n"
      ]
    },
    {
      "cell_type": "code",
      "execution_count": 16,
      "metadata": {
        "id": "xqwjSOkveCU_",
        "outputId": "005e26ed-88bb-40f3-d711-a964e4fd3656"
      },
      "outputs": [
        {
          "data": {
            "text/plain": [
              "((1934, 104), (1934,))"
            ]
          },
          "execution_count": 16,
          "metadata": {},
          "output_type": "execute_result"
        }
      ],
      "source": [
        "train_features.shape, train_labels.values.shape"
      ]
    },
    {
      "cell_type": "code",
      "execution_count": 17,
      "metadata": {
        "id": "CnIFnwGDeCVA"
      },
      "outputs": [],
      "source": [
        "# separate into input and output columns\n",
        "X = train_features\n",
        "y = train_labels\n",
        "# split the dataset into train and test sets\n",
        "X_train, X_test, y_train, y_test = train_test_split(X, y, test_size=0.30, random_state=1)\n",
        "# one-hot encode input variables\n",
        "# ordinal encode target variable\n",
        "label_encoder = LabelEncoder()\n",
        "label_encoder.fit(y_train)\n",
        "y_train = label_encoder.transform(y_train)\n",
        "y_test = label_encoder.transform(y_test)"
      ]
    },
    {
      "cell_type": "code",
      "execution_count": 18,
      "metadata": {
        "id": "kJ5eGefdeCVA"
      },
      "outputs": [],
      "source": [
        "clf = RandomForestClassifier()\n",
        "clf.fit(X_train, y_train)\n",
        "# save the model\n",
        "pickle.dump(clf, open(path+Modelname, 'wb'))"
      ]
    }
  ],
  "metadata": {
    "accelerator": "GPU",
    "colab": {
      "gpuType": "T4",
      "provenance": []
    },
    "kernelspec": {
      "display_name": "Python 3",
      "name": "python3"
    },
    "language_info": {
      "codemirror_mode": {
        "name": "ipython",
        "version": 3
      },
      "file_extension": ".py",
      "mimetype": "text/x-python",
      "name": "python",
      "nbconvert_exporter": "python",
      "pygments_lexer": "ipython3",
      "version": "3.11.3"
    },
    "vscode": {
      "interpreter": {
        "hash": "b0ec3465f5306ad2571dd352c55f43c441d7efdf3cf80b3e3c9f62414cf668dd"
      }
    }
  },
  "nbformat": 4,
  "nbformat_minor": 0
}
